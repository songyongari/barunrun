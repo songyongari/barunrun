{
 "cells": [
  {
   "cell_type": "code",
   "execution_count": 8,
   "metadata": {},
   "outputs": [
    {
     "name": "stdout",
     "output_type": "stream",
     "text": [
      "TensorFlow version: 2.18.0\n"
     ]
    }
   ],
   "source": [
    "### 1. 라이브러리 임포트\n",
    "import os\n",
    "import numpy as np\n",
    "import pandas as pd\n",
    "import tensorflow as tf\n",
    "\n",
    "from tensorflow.keras.models import Model\n",
    "from tensorflow.keras.layers import Input, LSTM, RepeatVector, TimeDistributed, Dense\n",
    "\n",
    "print(\"TensorFlow version:\", tf.__version__)"
   ]
  },
  {
   "cell_type": "code",
   "execution_count": 9,
   "metadata": {},
   "outputs": [],
   "source": [
    "### 2. 데이터 로드 및 시퀀스 구성 함수\n",
    "def load_csv_and_make_sequences(csv_path, seq_length=30):\n",
    "    \"\"\"\n",
    "    CSV 파일에서 프레임별 포즈 데이터를 읽고, 결측치 제거 후,\n",
    "    seq_length만큼 슬라이딩 윈도우로 시퀀스를 구성하여 반환.\n",
    "    첫 열('frame')을 제외하고 (프레임 수, 132) 데이터를 얻는다고 가정.\n",
    "    \"\"\"\n",
    "    df = pd.read_csv(csv_path)\n",
    "    df = df.dropna()  # 결측치 제거\n",
    "\n",
    "    # 첫 열('frame') 제외 -> 랜드마크 33개 × 4개 값 = 132\n",
    "    data = df.iloc[:, 1:].values  # shape: (프레임 수, 132)\n",
    "    n_frames = data.shape[0]\n",
    "\n",
    "    sequences = []\n",
    "    for i in range(n_frames - seq_length + 1):\n",
    "        seq = data[i:i+seq_length]\n",
    "        sequences.append(seq)\n",
    "\n",
    "    return np.array(sequences)  # (n_seq, seq_length, 132) 형태\n",
    "\n",
    "def load_multiple_csvs(csv_dir, file_prefix=\"pose_data\", start_num=1, end_num=10, seq_length=30):\n",
    "    \"\"\"\n",
    "    예: pose_data1.csv ~ pose_data10.csv까지 로드하여 하나로 합치는 함수.\n",
    "    \"\"\"\n",
    "    all_seqs = []\n",
    "    for i in range(start_num, end_num + 1):\n",
    "        csv_path = os.path.join(csv_dir, f\"{file_prefix}{i}.csv\")\n",
    "        if os.path.exists(csv_path):\n",
    "            seqs = load_csv_and_make_sequences(csv_path, seq_length)\n",
    "            all_seqs.append(seqs)\n",
    "            print(f\"[INFO] Loaded: {csv_path}, shape={seqs.shape}\")\n",
    "        else:\n",
    "            print(f\"[WARNING] File not found: {csv_path}, skipping...\")\n",
    "\n",
    "    if len(all_seqs) == 0:\n",
    "        print(\"[ERROR] No CSV files loaded. Check paths and file names.\")\n",
    "        return None\n",
    "\n",
    "    # 여러 CSV 시퀀스를 하나로 합침\n",
    "    X = np.concatenate(all_seqs, axis=0)\n",
    "    return X\n"
   ]
  },
  {
   "cell_type": "code",
   "execution_count": 10,
   "metadata": {},
   "outputs": [],
   "source": [
    "### 3. LSTM Autoencoder 모델 정의\n",
    "def build_lstm_autoencoder(timesteps, n_features, latent_dim=64):\n",
    "    \"\"\"\n",
    "    LSTM Autoencoder 구성.\n",
    "    입력: (timesteps, n_features)\n",
    "    출력: 동일 크기 (timesteps, n_features)\n",
    "    \"\"\"\n",
    "    inputs = Input(shape=(timesteps, n_features))\n",
    "    # 인코더\n",
    "    encoded = LSTM(latent_dim)(inputs)\n",
    "    encoded = RepeatVector(timesteps)(encoded)\n",
    "\n",
    "    # 디코더\n",
    "    decoded = LSTM(latent_dim, return_sequences=True)(encoded)\n",
    "    outputs = TimeDistributed(Dense(n_features))(decoded)\n",
    "\n",
    "    autoencoder = Model(inputs, outputs)\n",
    "    autoencoder.compile(optimizer='adam', loss='mse')\n",
    "    return autoencoder\n"
   ]
  },
  {
   "cell_type": "code",
   "execution_count": 11,
   "metadata": {},
   "outputs": [
    {
     "name": "stdout",
     "output_type": "stream",
     "text": [
      "[INFO] Loaded: C:\\barunrun\\pose_data\\pose_data1.csv, shape=(545, 30, 132)\n",
      "[INFO] Loaded: C:\\barunrun\\pose_data\\pose_data2.csv, shape=(233, 30, 132)\n",
      "[INFO] Loaded: C:\\barunrun\\pose_data\\pose_data3.csv, shape=(286, 30, 132)\n",
      "[INFO] Loaded: C:\\barunrun\\pose_data\\pose_data4.csv, shape=(170, 30, 132)\n",
      "[INFO] Loaded: C:\\barunrun\\pose_data\\pose_data5.csv, shape=(518, 30, 132)\n",
      "[INFO] Loaded: C:\\barunrun\\pose_data\\pose_data6.csv, shape=(308, 30, 132)\n",
      "[INFO] Loaded: C:\\barunrun\\pose_data\\pose_data7.csv, shape=(282, 30, 132)\n",
      "[INFO] Loaded: C:\\barunrun\\pose_data\\pose_data8.csv, shape=(211, 30, 132)\n",
      "[INFO] Loaded: C:\\barunrun\\pose_data\\pose_data9.csv, shape=(381, 30, 132)\n",
      "[INFO] Loaded: C:\\barunrun\\pose_data\\pose_data10.csv, shape=(238, 30, 132)\n",
      "X_expert shape: (3172, 30, 132)\n"
     ]
    },
    {
     "data": {
      "text/html": [
       "<pre style=\"white-space:pre;overflow-x:auto;line-height:normal;font-family:Menlo,'DejaVu Sans Mono',consolas,'Courier New',monospace\"><span style=\"font-weight: bold\">Model: \"functional\"</span>\n",
       "</pre>\n"
      ],
      "text/plain": [
       "\u001b[1mModel: \"functional\"\u001b[0m\n"
      ]
     },
     "metadata": {},
     "output_type": "display_data"
    },
    {
     "data": {
      "text/html": [
       "<pre style=\"white-space:pre;overflow-x:auto;line-height:normal;font-family:Menlo,'DejaVu Sans Mono',consolas,'Courier New',monospace\">┏━━━━━━━━━━━━━━━━━━━━━━━━━━━━━━━━━┳━━━━━━━━━━━━━━━━━━━━━━━━┳━━━━━━━━━━━━━━━┓\n",
       "┃<span style=\"font-weight: bold\"> Layer (type)                    </span>┃<span style=\"font-weight: bold\"> Output Shape           </span>┃<span style=\"font-weight: bold\">       Param # </span>┃\n",
       "┡━━━━━━━━━━━━━━━━━━━━━━━━━━━━━━━━━╇━━━━━━━━━━━━━━━━━━━━━━━━╇━━━━━━━━━━━━━━━┩\n",
       "│ input_layer (<span style=\"color: #0087ff; text-decoration-color: #0087ff\">InputLayer</span>)        │ (<span style=\"color: #00d7ff; text-decoration-color: #00d7ff\">None</span>, <span style=\"color: #00af00; text-decoration-color: #00af00\">30</span>, <span style=\"color: #00af00; text-decoration-color: #00af00\">132</span>)        │             <span style=\"color: #00af00; text-decoration-color: #00af00\">0</span> │\n",
       "├─────────────────────────────────┼────────────────────────┼───────────────┤\n",
       "│ lstm (<span style=\"color: #0087ff; text-decoration-color: #0087ff\">LSTM</span>)                     │ (<span style=\"color: #00d7ff; text-decoration-color: #00d7ff\">None</span>, <span style=\"color: #00af00; text-decoration-color: #00af00\">64</span>)             │        <span style=\"color: #00af00; text-decoration-color: #00af00\">50,432</span> │\n",
       "├─────────────────────────────────┼────────────────────────┼───────────────┤\n",
       "│ repeat_vector (<span style=\"color: #0087ff; text-decoration-color: #0087ff\">RepeatVector</span>)    │ (<span style=\"color: #00d7ff; text-decoration-color: #00d7ff\">None</span>, <span style=\"color: #00af00; text-decoration-color: #00af00\">30</span>, <span style=\"color: #00af00; text-decoration-color: #00af00\">64</span>)         │             <span style=\"color: #00af00; text-decoration-color: #00af00\">0</span> │\n",
       "├─────────────────────────────────┼────────────────────────┼───────────────┤\n",
       "│ lstm_1 (<span style=\"color: #0087ff; text-decoration-color: #0087ff\">LSTM</span>)                   │ (<span style=\"color: #00d7ff; text-decoration-color: #00d7ff\">None</span>, <span style=\"color: #00af00; text-decoration-color: #00af00\">30</span>, <span style=\"color: #00af00; text-decoration-color: #00af00\">64</span>)         │        <span style=\"color: #00af00; text-decoration-color: #00af00\">33,024</span> │\n",
       "├─────────────────────────────────┼────────────────────────┼───────────────┤\n",
       "│ time_distributed                │ (<span style=\"color: #00d7ff; text-decoration-color: #00d7ff\">None</span>, <span style=\"color: #00af00; text-decoration-color: #00af00\">30</span>, <span style=\"color: #00af00; text-decoration-color: #00af00\">132</span>)        │         <span style=\"color: #00af00; text-decoration-color: #00af00\">8,580</span> │\n",
       "│ (<span style=\"color: #0087ff; text-decoration-color: #0087ff\">TimeDistributed</span>)               │                        │               │\n",
       "└─────────────────────────────────┴────────────────────────┴───────────────┘\n",
       "</pre>\n"
      ],
      "text/plain": [
       "┏━━━━━━━━━━━━━━━━━━━━━━━━━━━━━━━━━┳━━━━━━━━━━━━━━━━━━━━━━━━┳━━━━━━━━━━━━━━━┓\n",
       "┃\u001b[1m \u001b[0m\u001b[1mLayer (type)                   \u001b[0m\u001b[1m \u001b[0m┃\u001b[1m \u001b[0m\u001b[1mOutput Shape          \u001b[0m\u001b[1m \u001b[0m┃\u001b[1m \u001b[0m\u001b[1m      Param #\u001b[0m\u001b[1m \u001b[0m┃\n",
       "┡━━━━━━━━━━━━━━━━━━━━━━━━━━━━━━━━━╇━━━━━━━━━━━━━━━━━━━━━━━━╇━━━━━━━━━━━━━━━┩\n",
       "│ input_layer (\u001b[38;5;33mInputLayer\u001b[0m)        │ (\u001b[38;5;45mNone\u001b[0m, \u001b[38;5;34m30\u001b[0m, \u001b[38;5;34m132\u001b[0m)        │             \u001b[38;5;34m0\u001b[0m │\n",
       "├─────────────────────────────────┼────────────────────────┼───────────────┤\n",
       "│ lstm (\u001b[38;5;33mLSTM\u001b[0m)                     │ (\u001b[38;5;45mNone\u001b[0m, \u001b[38;5;34m64\u001b[0m)             │        \u001b[38;5;34m50,432\u001b[0m │\n",
       "├─────────────────────────────────┼────────────────────────┼───────────────┤\n",
       "│ repeat_vector (\u001b[38;5;33mRepeatVector\u001b[0m)    │ (\u001b[38;5;45mNone\u001b[0m, \u001b[38;5;34m30\u001b[0m, \u001b[38;5;34m64\u001b[0m)         │             \u001b[38;5;34m0\u001b[0m │\n",
       "├─────────────────────────────────┼────────────────────────┼───────────────┤\n",
       "│ lstm_1 (\u001b[38;5;33mLSTM\u001b[0m)                   │ (\u001b[38;5;45mNone\u001b[0m, \u001b[38;5;34m30\u001b[0m, \u001b[38;5;34m64\u001b[0m)         │        \u001b[38;5;34m33,024\u001b[0m │\n",
       "├─────────────────────────────────┼────────────────────────┼───────────────┤\n",
       "│ time_distributed                │ (\u001b[38;5;45mNone\u001b[0m, \u001b[38;5;34m30\u001b[0m, \u001b[38;5;34m132\u001b[0m)        │         \u001b[38;5;34m8,580\u001b[0m │\n",
       "│ (\u001b[38;5;33mTimeDistributed\u001b[0m)               │                        │               │\n",
       "└─────────────────────────────────┴────────────────────────┴───────────────┘\n"
      ]
     },
     "metadata": {},
     "output_type": "display_data"
    },
    {
     "data": {
      "text/html": [
       "<pre style=\"white-space:pre;overflow-x:auto;line-height:normal;font-family:Menlo,'DejaVu Sans Mono',consolas,'Courier New',monospace\"><span style=\"font-weight: bold\"> Total params: </span><span style=\"color: #00af00; text-decoration-color: #00af00\">92,036</span> (359.52 KB)\n",
       "</pre>\n"
      ],
      "text/plain": [
       "\u001b[1m Total params: \u001b[0m\u001b[38;5;34m92,036\u001b[0m (359.52 KB)\n"
      ]
     },
     "metadata": {},
     "output_type": "display_data"
    },
    {
     "data": {
      "text/html": [
       "<pre style=\"white-space:pre;overflow-x:auto;line-height:normal;font-family:Menlo,'DejaVu Sans Mono',consolas,'Courier New',monospace\"><span style=\"font-weight: bold\"> Trainable params: </span><span style=\"color: #00af00; text-decoration-color: #00af00\">92,036</span> (359.52 KB)\n",
       "</pre>\n"
      ],
      "text/plain": [
       "\u001b[1m Trainable params: \u001b[0m\u001b[38;5;34m92,036\u001b[0m (359.52 KB)\n"
      ]
     },
     "metadata": {},
     "output_type": "display_data"
    },
    {
     "data": {
      "text/html": [
       "<pre style=\"white-space:pre;overflow-x:auto;line-height:normal;font-family:Menlo,'DejaVu Sans Mono',consolas,'Courier New',monospace\"><span style=\"font-weight: bold\"> Non-trainable params: </span><span style=\"color: #00af00; text-decoration-color: #00af00\">0</span> (0.00 B)\n",
       "</pre>\n"
      ],
      "text/plain": [
       "\u001b[1m Non-trainable params: \u001b[0m\u001b[38;5;34m0\u001b[0m (0.00 B)\n"
      ]
     },
     "metadata": {},
     "output_type": "display_data"
    },
    {
     "name": "stdout",
     "output_type": "stream",
     "text": [
      "Epoch 1/20\n",
      "\u001b[1m179/179\u001b[0m \u001b[32m━━━━━━━━━━━━━━━━━━━━\u001b[0m\u001b[37m\u001b[0m \u001b[1m5s\u001b[0m 14ms/step - loss: 0.0927 - val_loss: 0.0175\n",
      "Epoch 2/20\n",
      "\u001b[1m179/179\u001b[0m \u001b[32m━━━━━━━━━━━━━━━━━━━━\u001b[0m\u001b[37m\u001b[0m \u001b[1m2s\u001b[0m 13ms/step - loss: 0.0111 - val_loss: 0.0144\n",
      "Epoch 3/20\n",
      "\u001b[1m179/179\u001b[0m \u001b[32m━━━━━━━━━━━━━━━━━━━━\u001b[0m\u001b[37m\u001b[0m \u001b[1m2s\u001b[0m 12ms/step - loss: 0.0091 - val_loss: 0.0119\n",
      "Epoch 4/20\n",
      "\u001b[1m179/179\u001b[0m \u001b[32m━━━━━━━━━━━━━━━━━━━━\u001b[0m\u001b[37m\u001b[0m \u001b[1m3s\u001b[0m 14ms/step - loss: 0.0079 - val_loss: 0.0101\n",
      "Epoch 5/20\n",
      "\u001b[1m179/179\u001b[0m \u001b[32m━━━━━━━━━━━━━━━━━━━━\u001b[0m\u001b[37m\u001b[0m \u001b[1m3s\u001b[0m 14ms/step - loss: 0.0075 - val_loss: 0.0096\n",
      "Epoch 6/20\n",
      "\u001b[1m179/179\u001b[0m \u001b[32m━━━━━━━━━━━━━━━━━━━━\u001b[0m\u001b[37m\u001b[0m \u001b[1m2s\u001b[0m 13ms/step - loss: 0.0072 - val_loss: 0.0096\n",
      "Epoch 7/20\n",
      "\u001b[1m179/179\u001b[0m \u001b[32m━━━━━━━━━━━━━━━━━━━━\u001b[0m\u001b[37m\u001b[0m \u001b[1m2s\u001b[0m 12ms/step - loss: 0.0071 - val_loss: 0.0094\n",
      "Epoch 8/20\n",
      "\u001b[1m179/179\u001b[0m \u001b[32m━━━━━━━━━━━━━━━━━━━━\u001b[0m\u001b[37m\u001b[0m \u001b[1m2s\u001b[0m 11ms/step - loss: 0.0069 - val_loss: 0.0088\n",
      "Epoch 9/20\n",
      "\u001b[1m179/179\u001b[0m \u001b[32m━━━━━━━━━━━━━━━━━━━━\u001b[0m\u001b[37m\u001b[0m \u001b[1m2s\u001b[0m 11ms/step - loss: 0.0067 - val_loss: 0.0089\n",
      "Epoch 10/20\n",
      "\u001b[1m179/179\u001b[0m \u001b[32m━━━━━━━━━━━━━━━━━━━━\u001b[0m\u001b[37m\u001b[0m \u001b[1m2s\u001b[0m 12ms/step - loss: 0.0067 - val_loss: 0.0086\n",
      "Epoch 11/20\n",
      "\u001b[1m179/179\u001b[0m \u001b[32m━━━━━━━━━━━━━━━━━━━━\u001b[0m\u001b[37m\u001b[0m \u001b[1m2s\u001b[0m 11ms/step - loss: 0.0065 - val_loss: 0.0088\n",
      "Epoch 12/20\n",
      "\u001b[1m179/179\u001b[0m \u001b[32m━━━━━━━━━━━━━━━━━━━━\u001b[0m\u001b[37m\u001b[0m \u001b[1m2s\u001b[0m 12ms/step - loss: 0.0066 - val_loss: 0.0087\n",
      "Epoch 13/20\n",
      "\u001b[1m179/179\u001b[0m \u001b[32m━━━━━━━━━━━━━━━━━━━━\u001b[0m\u001b[37m\u001b[0m \u001b[1m2s\u001b[0m 12ms/step - loss: 0.0067 - val_loss: 0.0085\n",
      "Epoch 14/20\n",
      "\u001b[1m179/179\u001b[0m \u001b[32m━━━━━━━━━━━━━━━━━━━━\u001b[0m\u001b[37m\u001b[0m \u001b[1m2s\u001b[0m 12ms/step - loss: 0.0065 - val_loss: 0.0088\n",
      "Epoch 15/20\n",
      "\u001b[1m179/179\u001b[0m \u001b[32m━━━━━━━━━━━━━━━━━━━━\u001b[0m\u001b[37m\u001b[0m \u001b[1m2s\u001b[0m 11ms/step - loss: 0.0065 - val_loss: 0.0085\n",
      "Epoch 16/20\n",
      "\u001b[1m179/179\u001b[0m \u001b[32m━━━━━━━━━━━━━━━━━━━━\u001b[0m\u001b[37m\u001b[0m \u001b[1m2s\u001b[0m 12ms/step - loss: 0.0065 - val_loss: 0.0086\n",
      "Epoch 17/20\n",
      "\u001b[1m179/179\u001b[0m \u001b[32m━━━━━━━━━━━━━━━━━━━━\u001b[0m\u001b[37m\u001b[0m \u001b[1m2s\u001b[0m 11ms/step - loss: 0.0066 - val_loss: 0.0087\n",
      "Epoch 18/20\n",
      "\u001b[1m179/179\u001b[0m \u001b[32m━━━━━━━━━━━━━━━━━━━━\u001b[0m\u001b[37m\u001b[0m \u001b[1m2s\u001b[0m 12ms/step - loss: 0.0065 - val_loss: 0.0086\n",
      "Epoch 19/20\n",
      "\u001b[1m179/179\u001b[0m \u001b[32m━━━━━━━━━━━━━━━━━━━━\u001b[0m\u001b[37m\u001b[0m \u001b[1m2s\u001b[0m 12ms/step - loss: 0.0065 - val_loss: 0.0089\n",
      "Epoch 20/20\n",
      "\u001b[1m179/179\u001b[0m \u001b[32m━━━━━━━━━━━━━━━━━━━━\u001b[0m\u001b[37m\u001b[0m \u001b[1m2s\u001b[0m 11ms/step - loss: 0.0066 - val_loss: 0.0086\n"
     ]
    }
   ],
   "source": [
    "### 4. 정상 데이터 로드 & Autoencoder 학습\n",
    "### 4.1. 정상 데이터 로드\n",
    "csv_directory = r\"C:\\barunrun\\pose_data\"  # 실제 폴더 경로\n",
    "X_expert = load_multiple_csvs(\n",
    "    csv_dir=csv_directory,\n",
    "    file_prefix=\"pose_data\",  # pose_data1.csv ~ pose_data10.csv\n",
    "    start_num=1,\n",
    "    end_num=10,\n",
    "    seq_length=30\n",
    ")\n",
    "\n",
    "if X_expert is None:\n",
    "    raise ValueError(\"No expert data loaded. Check CSV paths.\")\n",
    "\n",
    "print(\"X_expert shape:\", X_expert.shape)  # 예: (N, 30, 132)\n",
    "\n",
    "### 4.2. 모델 빌드\n",
    "timesteps = 30\n",
    "n_features = X_expert.shape[2]  # 보통 132 (33×4)\n",
    "latent_dim = 64\n",
    "\n",
    "autoencoder = build_lstm_autoencoder(timesteps, n_features, latent_dim)\n",
    "autoencoder.summary()\n",
    "\n",
    "### 4.3. 모델 학습\n",
    "# Autoencoder는 입력=X_expert, 출력=X_expert\n",
    "history = autoencoder.fit(\n",
    "    X_expert, X_expert,\n",
    "    epochs=20,\n",
    "    batch_size=16,\n",
    "    validation_split=0.1  # 10%를 검증용\n",
    ")\n"
   ]
  },
  {
   "cell_type": "code",
   "execution_count": 12,
   "metadata": {},
   "outputs": [
    {
     "name": "stdout",
     "output_type": "stream",
     "text": [
      "\u001b[1m100/100\u001b[0m \u001b[32m━━━━━━━━━━━━━━━━━━━━\u001b[0m\u001b[37m\u001b[0m \u001b[1m1s\u001b[0m 8ms/step\n",
      "[INFO] 전문가 데이터 개수: 3172\n",
      "평균 MSE: 0.006622, 표준편차: 0.004630\n",
      "임계값(Threshold): 0.020512\n"
     ]
    },
    {
     "data": {
      "image/png": "[encoded data removed]",
      "text/plain": [
       "<Figure size 640x480 with 1 Axes>"
      ]
     },
     "metadata": {},
     "output_type": "display_data"
    }
   ],
   "source": [
    "### 5. 전문가(정상) 데이터 복원 오차 & 임계값\n",
    "import matplotlib.pyplot as plt\n",
    "\n",
    "# 학습 후, 전문가 데이터 복원\n",
    "X_expert_pred = autoencoder.predict(X_expert)\n",
    "mse_expert = np.mean((X_expert - X_expert_pred)**2, axis=(1,2))\n",
    "\n",
    "mean_mse_expert = np.mean(mse_expert)\n",
    "std_mse_expert = np.std(mse_expert)\n",
    "threshold = mean_mse_expert + 3 * std_mse_expert  # 예시로 평균+3*표준편차\n",
    "\n",
    "print(f\"[INFO] 전문가 데이터 개수: {len(mse_expert)}\")\n",
    "print(f\"평균 MSE: {mean_mse_expert:.6f}, 표준편차: {std_mse_expert:.6f}\")\n",
    "print(f\"임계값(Threshold): {threshold:.6f}\")\n",
    "\n",
    "# MSE 분포 시각화 (옵션)\n",
    "plt.hist(mse_expert, bins=50, alpha=0.7, color='blue')\n",
    "plt.axvline(threshold, color='red', linestyle='--', label='Threshold')\n",
    "plt.title(\"Expert MSE Distribution\")\n",
    "plt.xlabel(\"MSE\")\n",
    "plt.ylabel(\"Count\")\n",
    "plt.legend()\n",
    "plt.show()\n"
   ]
  },
  {
   "cell_type": "code",
   "execution_count": 13,
   "metadata": {},
   "outputs": [
    {
     "name": "stdout",
     "output_type": "stream",
     "text": [
      "X_abnormal shape: (381, 30, 132)\n",
      "\u001b[1m12/12\u001b[0m \u001b[32m━━━━━━━━━━━━━━━━━━━━\u001b[0m\u001b[37m\u001b[0m \u001b[1m0s\u001b[0m 8ms/step\n",
      "\n",
      "===== 비정상 데이터 예측 결과 =====\n",
      "총 381개 시퀀스 중, 임계값 초과(이상치): 28\n",
      "비정상 판단 비율: 0.073\n",
      "임계값: 0.020512\n",
      "전문가 데이터 평균 MSE: 0.006622, 표준편차: 0.004630\n"
     ]
    },
    {
     "data": {
      "image/png": "[encoded data removed]",
      "text/plain": [
       "<Figure size 640x480 with 1 Axes>"
      ]
     },
     "metadata": {},
     "output_type": "display_data"
    }
   ],
   "source": [
    "### 6. 비정상 데이터 로드 & 이상 여부 판단\n",
    "### 6.1. 비정상 CSV 로드\n",
    "csv_path_abnormal = r\"C:\\barunrun\\pose_data\\pose_data_abnormal1.csv\"\n",
    "X_abnormal = load_csv_and_make_sequences(csv_path_abnormal, seq_length=30)\n",
    "print(\"X_abnormal shape:\", X_abnormal.shape)\n",
    "\n",
    "### 6.2. 복원 & MSE 계산\n",
    "X_abnormal_pred = autoencoder.predict(X_abnormal)\n",
    "mse_abnormal = np.mean((X_abnormal - X_abnormal_pred)**2, axis=(1,2))\n",
    "\n",
    "### 6.3. 이상치 판정\n",
    "abnormal_detected = np.sum(mse_abnormal > threshold)\n",
    "abnormal_ratio = abnormal_detected / len(mse_abnormal)\n",
    "\n",
    "print(\"\\n===== 비정상 데이터 예측 결과 =====\")\n",
    "print(f\"총 {len(mse_abnormal)}개 시퀀스 중, 임계값 초과(이상치): {abnormal_detected}\")\n",
    "print(f\"비정상 판단 비율: {abnormal_ratio:.3f}\")\n",
    "print(f\"임계값: {threshold:.6f}\")\n",
    "print(f\"전문가 데이터 평균 MSE: {mean_mse_expert:.6f}, 표준편차: {std_mse_expert:.6f}\")\n",
    "\n",
    "# (옵션) 비정상 MSE 히스토그램도 볼 수 있음\n",
    "plt.hist(mse_abnormal, bins=50, alpha=0.7, color='orange')\n",
    "plt.axvline(threshold, color='red', linestyle='--', label='Threshold')\n",
    "plt.title(\"Abnormal MSE Distribution\")\n",
    "plt.xlabel(\"MSE\")\n",
    "plt.ylabel(\"Count\")\n",
    "plt.legend()\n",
    "plt.show()\n"
   ]
  },
  {
   "cell_type": "code",
   "execution_count": 14,
   "metadata": {},
   "outputs": [
    {
     "name": "stderr",
     "output_type": "stream",
     "text": [
      "WARNING:absl:You are saving your model as an HDF5 file via `model.save()` or `keras.saving.save_model(model)`. This file format is considered legacy. We recommend using instead the native Keras format, e.g. `model.save('my_model.keras')` or `keras.saving.save_model(model, 'my_model.keras')`. \n"
     ]
    },
    {
     "name": "stdout",
     "output_type": "stream",
     "text": [
      "[INFO] 모델 저장 완료.\n"
     ]
    }
   ],
   "source": [
    "### 7. (옵션) 모델 저장 & 로드\n",
    "# 모델 저장\n",
    "autoencoder.save(\"lstm_autoencoder_model.h5\")\n",
    "print(\"[INFO] 모델 저장 완료.\")\n",
    "\n",
    "# 이후 다른 셀이나 다른 노트북에서 로드\n",
    "# from tensorflow.keras.models import load_model\n",
    "# autoencoder_loaded = load_model(\"lstm_autoencoder_model.h5\")\n",
    "# mse_abnormal_new = autoencoder_loaded.predict(X_abnormal)\n"
   ]
  },
  {
   "cell_type": "markdown",
   "metadata": {},
   "source": [
    " ### 이 노트북 예시를 순서대로 실행하면:\n",
    "\n",
    "- 정상 CSV(10개) 로드 → 시퀀스 구성 → 합침   \n",
    "- LSTM Autoencoder 빌드 & 학습 → 정상 패턴 복원 능력 습득   \n",
    "- 학습된 모델로 정상 데이터 MSE를 구해 임계값 설정   \n",
    "- 비정상 CSV 로드 → 복원 오차 계산 → 임계값 초과 여부로 이상치 판정   \n",
    "\n",
    "이렇게 단계별로 전 과정을 한 번에 수행할 수 있습니다.   \n",
    "경로, 파일명, 시퀀스 길이, latent_dim, 에폭 수 등은 상황에 맞게 조정하시고,   \n",
    "실행 시 나오는 로그(에폭별 loss)와 결과(MSE 분포)를 확인해 가며 튜닝을 진행하세요.   "
   ]
  },
  {
   "cell_type": "markdown",
   "metadata": {},
   "source": [
    "### 현재 실행 결과를 보면,\n",
    "- 정상 데이터 분포는 평균 MSE가 약 0.0066, 표준편차가 약 0.0046이며,   \n",
    "- 임계값(Threshold)은 약 0.0205 정도로 설정되었고,   \n",
    "- 비정상 데이터 381개 중 28개(약 7.3%)만 임계값을 초과(“이상치”)로 판정되었습니다.   \n",
    "\n",
    "즉, 비정상 데이터의 대부분(92.7%)이 정상 범위 안에 포함되어, 모델이 “비정상”을 제대로 잡아내지 못하고 있습니다.   \n",
    "\n",
    "이런 결과가 나오는 이유와 개선 방안을 정리해 드리겠습니다.   \n",
    "   \n",
    "### 1. 결과 해석   \n",
    "1. 정상 데이터 MSE 분포   \n",
    "    - 히스토그램 상으로 0~0.02 구간에 대부분 몰려 있고, 일부 꼬리가 0.03 근처까지 이어집니다.   \n",
    "    - 평균(0.0066)에 비해 임계값(0.0205)이 꽤 높게 설정된 편이라, 정상 데이터 중 상당수(대부분)는 임계값 아래에 있습니다.   \n",
    "\n",
    "2. 비정상 데이터 MSE 분포   \n",
    "    - 그래프를 보면 비정상 데이터 역시 0~0.015 근처에 많이 분포하고 있어,   \n",
    "    - 실제로 정상 분포와 크게 겹치는 부분이 많기 때문에, 오차가 임계값 이하로 나온 시퀀스가 많습니다(= 비정상인데 정상으로 판단).   \n",
    "\n",
    "3. 7.3%만 이상치   \n",
    "    - 결국 비정상 시퀀스 중 소수(28개)만 임계값을 초과하여 이상치로 분류되고,   \n",
    "    - 나머지(약 92.7%)는 정상 범위 안에 들어왔다는 뜻입니다.   \n",
    "   \n",
    "### 2. 왜 이런 결과가 나올까?   \n",
    "1.  비정상 데이터가 실제로 정상과 크게 다르지 않을 수도 있음   \n",
    "    - 러닝 자세가 “조금만” 비정상이라면, Autoencoder가 복원할 때 큰 오차가 안 날 수 있습니다.   \n",
    "\n",
    "2. 데이터 양의 부족      \n",
    "    - 정상 10개 영상 + 비정상 1개 영상만으로는 모델이 러닝 동작의 “정상/비정상” 차이를 학습하기에 충분치 않을 수 있습니다.   \n",
    "    - 비정상 데이터가 더 다양하거나 많아야, 정상과 구별되는 특징이 뚜렷해질 가능성이 높습니다.   \n",
    "\n",
    "3. 모델/하이퍼파라미터 제한   \n",
    "    - Autoencoder 구조(레이어 수, latent_dim=64), 학습 에폭(20번) 등으로는 복잡한 차이를 학습하기 부족할 수 있습니다.   \n",
    "    - 더 깊은 모델이나 더 많은 에폭, 다른 구조(예: Transformer Autoencoder) 등을 시도할 수 있습니다.   \n",
    "\n",
    "4. 임계값(Threshold) 설정   \n",
    "    - 현재는 평균 + 3*표준편차로 임계값을 정했습니다.   \n",
    "    - 만약 비정상을 더 많이 잡고 싶다면, 임계값을 좀 더 낮추거나 다른 방식(중앙값+IQR 등)을 시도할 수 있습니다.   \n",
    "    - 다만, 임계값을 낮추면 정상 데이터 일부도 이상치로 잡힐 수 있으므로, 그 균형을 맞춰야 합니다.   \n",
    "   \n",
    "### 3. 개선 방향   \n",
    "1. 데이터 확충   \n",
    "    - 비정상 영상을 더 많이, 다양한 형태(속도, 착지, 자세 등)로 확보하면,   \n",
    "    모델이 “정상과 다른 패턴”을 잘 학습하거나(지도학습), Autoencoder 기준으로 더 큰 오차를 내도록 만들 수 있습니다.   \n",
    "    - 정상 영상도 속도·체형·환경이 다양한 데이터를 모으는 게 좋습니다.   \n",
    "\n",
    "2. Autoencoder 구조/학습 개선\n",
    "    - 더 많은 LSTM 레이어를 쌓거나, latent_dim을 늘려 모델 용량을 키울 수 있습니다.   \n",
    "    - 학습 에폭을 늘리거나, Early Stopping을 도입해 오버피팅을 방지하면서 충분히 학습할 수도 있습니다.   \n",
    "    - Transformer 기반 시계열 Autoencoder도 시도해 볼 수 있습니다.   \n",
    "\n",
    "3. 임계값 조정   \n",
    "    - 지금은 “평균 + 3×표준편차”로 했는데, 이보다 낮게(예: 2.5×) 설정하면 비정상 검출이 조금 늘어날 수 있습니다.   \n",
    "    - 정상 데이터 중 일부가 이상치가 될 수도 있으니, 그 비율도 함께 모니터링해야 합니다.   \n",
    "\n",
    "4. 특정 관절만 사용 / 특징 공학   \n",
    "    - 무릎, 엉덩이, 발목 등 “러닝 자세”에 특히 중요한 관절만 추출하면, 비정상일 때 더 큰 차이가 날 수도 있습니다.   \n",
    "    - 또는 PCA/차원 축소로 잡음을 줄이고, 오히려 더 뚜렷한 차이를 얻을 수도 있습니다.   \n",
    "\n",
    "### 4. 결론\n",
    "- 현재 결과(비정상 7.3% 검출)가 “원하는 만큼 비정상을 구분하지 못한다”고 느껴지면, 데이터 확충과 모델/임계값 튜닝이 필요합니다.   \n",
    "- 데이터가 많지 않고 비정상 영상도 다양하지 않으면, Autoencoder가 정상·비정상을 충분히 구별하기 어렵습니다.   \n",
    "- 장기적으로 더 많은 비정상 영상을 확보하고, Autoencoder 구조나 파라미터를 다양하게 시도해보면 성능이 향상될 수 있습니다.   \n",
    "\n",
    "따라서, “정말 데이터가 적어서 생기는 문제”일 가능성이 크고, 모델 자체가 정상·비정상을 완전히 분리할 정도로 학습하지 못한 것으로 해석할 수 있습니다.   \n",
    "지금 상황이 “완전히 잘못된” 것은 아니며, 데이터나 하이퍼파라미터가 한정된 상태에서 나올 수 있는 자연스러운 결과라고 보시면 됩니다.   "
   ]
  },
  {
   "cell_type": "markdown",
   "metadata": {},
   "source": []
  }
 ],
 "metadata": {
  "kernelspec": {
   "display_name": "barunrun_env",
   "language": "python",
   "name": "python3"
  },
  "language_info": {
   "codemirror_mode": {
    "name": "ipython",
    "version": 3
   },
   "file_extension": ".py",
   "mimetype": "text/x-python",
   "name": "python",
   "nbconvert_exporter": "python",
   "pygments_lexer": "ipython3",
   "version": "3.10.16"
  }
 },
 "nbformat": 4,
 "nbformat_minor": 2
}
